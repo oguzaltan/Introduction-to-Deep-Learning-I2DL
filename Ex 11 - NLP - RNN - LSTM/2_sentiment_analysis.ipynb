{
 "cells": [
  {
   "cell_type": "markdown",
   "metadata": {},
   "source": [
    "# Sentiment Analysis\n",
    "\n",
    "Congrats, you finished the part on the data preparation, and we can now move on to a more exciting part of using RNNs/LSTMs to process sequential data! But be careful, even if the previous notebook might seem a little bit boring, it is of great importance. We switched from images to text data in this exercise, and remember the first steps that we did in our class were also data related, and they were essential for all the following exercises. So naturally, since we switched to text data in this exercise, make sure you have a good understanding of how the data has been prepared.\n",
    "\n",
    "For the last I2DL exercise, we want to make use of Recurrent Neural Networks (RNNs) to process sequential data. We will stick with the same dataset we have been looking at in the previous notebook, namely the [IMDb](https://ai.stanford.edu/~amaas/data/sentiment/) sentiment analysis dataset that contains positive and negative movie reviews.\n",
    "\n",
    "<p class=\"aligncenter\">\n",
    "    <img src=\"images/IMDB.jpg\" alt=\"centered image\" />\n",
    "</p>\n",
    "\n",
    "Sentiment analysis is the task of predicting the sentiment of a text. In this notebook, you will train a network to process reviews from the dataset and evaluate whether it has been a positive or a negative review. Below are two examples:\n",
    "\n",
    "<p class=\"aligncenter\">\n",
    "    <img src=\"images/examples.png\" alt=\"centered image\" />\n",
    "</p>\n"
   ]
  },
  {
   "cell_type": "markdown",
   "metadata": {},
   "source": [
    "## (Optional) Mount folder in Colab\n",
    "\n",
    "Uncomment the following cell to mount your gdrive if you are using the notebook in google colab:"
   ]
  },
  {
   "cell_type": "code",
   "execution_count": null,
   "metadata": {},
   "outputs": [],
   "source": [
    "# Use the following lines if you want to use Google Colab\n",
    "# We presume you created a folder \"i2dl\" within your main drive folder, and put the exercise there.\n",
    "# NOTE: terminate all other colab sessions that use GPU!\n",
    "# NOTE 2: Make sure the correct exercise folder (e.g exercise_11) is given.\n",
    "\n",
    "\"\"\"\n",
    "from google.colab import drive\n",
    "import os\n",
    "\n",
    "gdrive_path='/content/gdrive/MyDrive/i2dl/exercise_11'\n",
    "\n",
    "# This will mount your google drive under 'MyDrive'\n",
    "drive.mount('/content/gdrive', force_remount=True)\n",
    "# In order to access the files in this notebook we have to navigate to the correct folder\n",
    "os.chdir(gdrive_path)\n",
    "# Check manually if all files are present\n",
    "print(sorted(os.listdir()))\n",
    "\"\"\""
   ]
  },
  {
   "cell_type": "markdown",
   "metadata": {},
   "source": [
    "### Set up PyTorch environment in colab\n",
    "- (OPTIONAL) Enable GPU via Runtime --> Change runtime type --> GPU\n",
    "- Uncomment the following cell if you are using the notebook in google colab:"
   ]
  },
  {
   "cell_type": "code",
   "execution_count": null,
   "metadata": {},
   "outputs": [],
   "source": [
    "# Optional: install correct libraries in google colab\n",
    "# !python -m pip install torch==1.11.0+cu113 torchvision==0.12.0+cu113 -f https://download.pytorch.org/whl/torch_stable.html\n",
    "# !python -m pip install tensorboard==2.8.0"
   ]
  },
  {
   "cell_type": "markdown",
   "metadata": {},
   "source": [
    "# 0. Setup\n",
    "\n",
    "As always, we first import some packages to setup the notebook."
   ]
  },
  {
   "cell_type": "code",
   "execution_count": null,
   "metadata": {},
   "outputs": [],
   "source": [
    "import os\n",
    "import random\n",
    "import matplotlib.pyplot as plt\n",
    "import torch\n",
    "import torch.nn as nn\n",
    "import torch.nn.functional as F\n",
    "from torch.utils.data import DataLoader\n",
    "from torch.nn.utils import clip_grad_norm_\n",
    "\n",
    "from exercise_code.rnn.sentiment_dataset import (\n",
    "    download_data,\n",
    "    load_sentiment_data,\n",
    "    load_vocab,\n",
    "    SentimentDataset,\n",
    "    collate\n",
    ")\n",
    "\n",
    "%matplotlib inline\n",
    "plt.rcParams['figure.figsize'] = (10.0, 8.0) # set default size of plots\n",
    "plt.rcParams['image.interpolation'] = 'nearest'\n",
    "plt.rcParams['image.cmap'] = 'gray'\n",
    "\n",
    "# for auto-reloading external modules\n",
    "# see http://stackoverflow.com/questions/1907993/autoreload-of-modules-in-ipython\n",
    "%load_ext autoreload\n",
    "%autoreload 2\n",
    "\n",
    "os.environ['KMP_DUPLICATE_LIB_OK']='True' # To prevent the kernel from dying."
   ]
  },
  {
   "cell_type": "markdown",
   "metadata": {},
   "source": [
    "# 1. Loading Data\n",
    "\n",
    "As we have learned from the notebook 1, this time we not only load the raw data, but also have the corresponding vocabulary. Let us load the data that we prepared for you:"
   ]
  },
  {
   "cell_type": "code",
   "execution_count": null,
   "metadata": {},
   "outputs": [],
   "source": [
    "i2dl_exercises_path = os.path.dirname(os.path.abspath(os.getcwd()))\n",
    "data_root = os.path.join(i2dl_exercises_path, \"datasets\", \"SentimentData\")\n",
    "base_dir = download_data(data_root)\n",
    "vocab = load_vocab(base_dir)\n",
    "train_data, val_data, test_data = load_sentiment_data(base_dir, vocab)\n",
    "\n",
    "print(\"number of training samples: {}\".format(len(train_data)))\n",
    "print(\"number of validation samples: {}\".format(len(val_data)))\n",
    "print(\"number of test samples: {}\".format(len(test_data)))"
   ]
  },
  {
   "cell_type": "markdown",
   "metadata": {},
   "source": [
    "## Dataset Samples\n",
    "\n",
    "Our raw data consists of tuples `(raw_text, token_list, token_indices, label)`. Let's sample some relatively short texts from our dataset to have a sense how it looks like:"
   ]
  },
  {
   "cell_type": "code",
   "execution_count": null,
   "metadata": {},
   "outputs": [],
   "source": [
    "sample_data0 = [datum for datum in train_data if len(datum[1]) < 20 and datum[-1] == 0] # negative\n",
    "sample_data1 = [datum for datum in train_data if len(datum[1]) < 20 and datum[-1] == 1] # positive\n",
    "\n",
    "# we sample 2 tuples each from positive set and negative set\n",
    "sample_data = random.sample(sample_data0, 2) + random.sample(sample_data1, 2)\n",
    "for text, tokens, indices, label in sample_data:\n",
    "    print('Text: \\n {}\\n'.format(text))\n",
    "    print('Tokens: \\n {}\\n'.format(tokens))\n",
    "    print('Indices: \\n {}\\n'.format(indices))\n",
    "    print('Label:\\n {}\\n'.format(label))\n",
    "    print()"
   ]
  },
  {
   "cell_type": "markdown",
   "metadata": {},
   "source": [
    "## Checking the Vocabulary\n",
    "\n",
    "In the previous notebook, we discussed the need of a vocabulary for mapping words to unique integer IDs. Instead of creating the vocabulary manually, we provide you with the vocabulary. Let's have a look at some samples from the vocabulary of the dataset:"
   ]
  },
  {
   "cell_type": "code",
   "execution_count": null,
   "metadata": {},
   "outputs": [],
   "source": [
    "print('Vocabulary size:', len(vocab), '\\n\\n  Sample words\\n{}'.format('-' * 20))\n",
    "sample_words = random.sample(list(vocab.keys()), 10)\n",
    "for word in sample_words:\n",
    "    print(' {}'.format(word))"
   ]
  },
  {
   "cell_type": "markdown",
   "metadata": {},
   "source": [
    "Also we saw that there are already indices in the raw data that we loaded. We can check if the indices in the vocabulary match the raw data using the last sentence in `sample_data`. Words that are not in the vocabulary are assigned to the symbol `<unk>`. The output of the following cell should be the same as the indices in the last example of our loaded raw data:"
   ]
  },
  {
   "cell_type": "code",
   "execution_count": null,
   "metadata": {},
   "outputs": [],
   "source": [
    "# Last sample from above \n",
    "(text, tokens, indices, label) = sample_data[-1]\n",
    "print('Text: \\n {}\\n'.format(text))\n",
    "print('Tokens: \\n {}\\n'.format(tokens))\n",
    "print('Indices: \\n {}\\n'.format(indices))\n",
    "print('Label:\\n {}\\n'.format(label))\n",
    "\n",
    "# Compare with the vocabulary\n",
    "print('Indices drawn from vocabulary: \\n {}\\n'.format([vocab.get(x, vocab['<unk>']) for x in sample_data[-1][1]]))"
   ]
  },
  {
   "cell_type": "markdown",
   "metadata": {},
   "source": [
    "## Wrapping to PyTorch Datasets\n",
    "\n",
    "Great, the raw data is loaded properly and the vocabulary is matching. Let us wrap our data in a PyTorch dataset. For more details, check out the previous notebook and the corresponding dataset class defined in `exercise_code/rnn/sentiment_dataset.py`."
   ]
  },
  {
   "cell_type": "code",
   "execution_count": null,
   "metadata": {},
   "outputs": [],
   "source": [
    "# Define a Dataset Class for train, val and test set\n",
    "train_dataset = SentimentDataset(train_data)\n",
    "val_dataset = SentimentDataset(val_data)\n",
    "test_dataset = SentimentDataset(test_data)"
   ]
  },
  {
   "cell_type": "markdown",
   "metadata": {},
   "source": [
    "# 2. Creating a Sentiment Classifier\n",
    "\n",
    "After we have loaded the data, it is time to define a model and start training and testing."
   ]
  },
  {
   "cell_type": "markdown",
   "metadata": {},
   "source": [
    "## Evaluation Metrics\n",
    "\n",
    "Since we just need to predict positive or negative, we can use `binary cross-entropy loss` to train our model. And accuracy can be used to assess our model's performance. We will use the following evaluation model to compute the accuracy."
   ]
  },
  {
   "cell_type": "code",
   "execution_count": null,
   "metadata": {},
   "outputs": [],
   "source": [
    "bce_loss = nn.BCELoss()\n",
    "\n",
    "@torch.no_grad()\n",
    "def compute_accuracy(model, data_loader):\n",
    "    corrects = 0\n",
    "    total = 0\n",
    "    device = next(model.parameters()).device\n",
    "    \n",
    "    for i, x in enumerate(data_loader):\n",
    "        input = x['data'].to(device)\n",
    "        lengths = x['lengths']\n",
    "        label = x['label'].to(device)\n",
    "        pred = model(input, lengths)\n",
    "        corrects += ((pred > 0.5) == label).sum().item()\n",
    "        total += label.numel()\n",
    "        \n",
    "        if i > 0  and i % 100 == 0:\n",
    "            print('Step {} / {}'.format(i, len(data_loader)))\n",
    "    \n",
    "    return corrects / total"
   ]
  },
  {
   "cell_type": "markdown",
   "metadata": {},
   "source": [
    "## Step 1: Design your own model\n",
    "\n",
    "In this part, you need to create a classifier using the Embedding layers you implemented in the first notebook and LSTM. For the LSTM, you may also use the PyTorch implementation.\n",
    "\n",
    "<p class=\"aligncenter\">\n",
    "    <img src=\"images/LSTM.png\" alt=\"centered image\" />\n",
    "</p>\n",
    "\n",
    "\n",
    "\n",
    "\n",
    "<div class=\"alert alert-info\">\n",
    "    <h3>Task: Implement a Classifier</h3>\n",
    "    \n",
    "   Go to <code>exercise_code/rnn/text_classifiers.py</code> and implement the <code>RNNClassifier</code>.\n",
    "</div>\n",
    "\n",
    "This file is mostly empty but contains the expected class name, and the methods that your model needs to implement (only `forward()` basically). \n",
    "The only rules your model design has to follow are:\n",
    "* Perform the forward pass in `forward()`.\n",
    "* Have less than 2 million parameters\n",
    "* Have a model size of less than 50MB after saving\n",
    "\n",
    "After you finished, edit the below cell to make sure your implementation is correct. You should define the model yourself, which should be small enough (2 Mio. parameters) and have correct output format."
   ]
  },
  {
   "cell_type": "code",
   "execution_count": null,
   "metadata": {},
   "outputs": [],
   "source": [
    "from exercise_code.rnn.tests import classifier_test, parameter_test\n",
    "from exercise_code.rnn.text_classifiers import RNNClassifier\n",
    "\n",
    "model = None\n",
    "\n",
    "########################################################################\n",
    "# TODO - Create a Model                                               #\n",
    "########################################################################\n",
    "\n",
    "model = RNNClassifier(len(vocab), 40, 30)\n",
    "\n",
    "########################################################################\n",
    "#                           END OF YOUR CODE                           #\n",
    "########################################################################\n",
    "\n",
    "# Check whether your model is sufficiently small and have a correct output format\n",
    "parameter_test(model), classifier_test(model, len(vocab))"
   ]
  },
  {
   "cell_type": "markdown",
   "metadata": {},
   "source": [
    "## Step 2: Train your own model\n",
    "\n",
    "In this section, you need to train the classifier you created. Below, you can see some setup code we provided to you. Note the **collate function** used with the `DataLoader`. If you forgot why we need the collate function here, check this out in Notebook 1.\n",
    "\n",
    "You are free to change the below configs (e.g. batch size, device setting etc.) as you wish."
   ]
  },
  {
   "cell_type": "code",
   "execution_count": null,
   "metadata": {},
   "outputs": [],
   "source": [
    "# Training configs\n",
    "if torch.cuda.is_available():\n",
    "    device = torch.device('cuda')\n",
    "else:\n",
    "    device = torch.device('cpu')\n",
    "\n",
    "print('Using {}...\\n'.format(device))\n",
    "\n",
    "# Move model to the device we are using\n",
    "model = model.to(device)\n",
    "\n",
    "# To tackle with the exploding gradient problem, you may want to set gclip and use clip_grad_norm_\n",
    "# see the optional notebook for the explanation\n",
    "gclip = None\n",
    "\n",
    "# Dataloaders, note the collate function\n",
    "train_loader = DataLoader(\n",
    "  train_dataset, batch_size=16, collate_fn=collate, drop_last=True\n",
    ")\n",
    "val_loader = DataLoader(\n",
    "  val_dataset, batch_size=16, collate_fn=collate, drop_last=False\n",
    ")"
   ]
  },
  {
   "cell_type": "markdown",
   "metadata": {},
   "source": [
    "<div class=\"alert alert-info\">\n",
    "<h3>Task: Implement Training</h3>\n",
    "    <p>\n",
    "        In the below cell, you are expected to implement your training loop to train your model. You can use the training loader provided above for iterating over the data. If you want to evaluate your model periodically, you may use the validation loader provided above.\n",
    "   </p>\n",
    "</div>\n",
    "\n",
    "**Hints :**\n",
    "* Use `torch.nn.BCELoss` as loss function\n",
    "* Revise the previous exercises if you get stuck.\n"
   ]
  },
  {
   "cell_type": "code",
   "execution_count": null,
   "metadata": {},
   "outputs": [],
   "source": [
    "train_loader = DataLoader(train_dataset, batch_size=16, collate_fn=collate, drop_last=True)\n",
    "\n",
    "for i, data in enumerate(train_loader):  \n",
    "    print(data.keys())"
   ]
  },
  {
   "cell_type": "code",
   "execution_count": 91,
   "metadata": {},
   "outputs": [
    {
     "name": "stdout",
     "output_type": "stream",
     "text": [
      "Starting training...\n",
      "Epoch 1...\n",
      "\n",
      "Step 100 / 572, Loss 0.04247758537530899\n",
      "Step 200 / 572, Loss 0.005562147591263056\n",
      "Step 300 / 572, Loss 0.031172946095466614\n",
      "Step 400 / 572, Loss 0.02477657049894333\n",
      "Step 500 / 572, Loss 0.021216077730059624\n",
      "Training Loss: 0.055000271839480454, Training Accuracy: 0.9857954545454546\n",
      "\n",
      "Starting evaluation...\n",
      "Step 100 / 196\n",
      "Validation Accuracy: 0.7797638046600702\n",
      "\n",
      "\n",
      "Epoch 2...\n",
      "\n",
      "Step 100 / 572, Loss 0.014144540764391422\n",
      "Step 200 / 572, Loss 0.005578780546784401\n",
      "Step 300 / 572, Loss 0.0031337428372353315\n",
      "Step 400 / 572, Loss 0.020518524572253227\n",
      "Step 500 / 572, Loss 0.025211386382579803\n",
      "Training Loss: 0.0633005517503569, Training Accuracy: 0.9818618881118881\n",
      "\n",
      "Starting evaluation...\n",
      "Step 100 / 196\n",
      "Validation Accuracy: 0.7835939993616342\n",
      "\n",
      "\n",
      "Epoch 3...\n",
      "\n",
      "Step 100 / 572, Loss 0.00972821656614542\n",
      "Step 200 / 572, Loss 0.013306178152561188\n",
      "Step 300 / 572, Loss 0.0020217173732817173\n",
      "Step 400 / 572, Loss 0.009245655499398708\n",
      "Step 500 / 572, Loss 0.012557617388665676\n",
      "Training Loss: 0.05288179230064616, Training Accuracy: 0.9856861888111889\n",
      "\n",
      "Starting evaluation...\n",
      "Step 100 / 196\n",
      "Validation Accuracy: 0.7864666453878072\n",
      "\n",
      "\n",
      "Epoch 4...\n",
      "\n",
      "Step 100 / 572, Loss 0.0203937329351902\n",
      "Step 200 / 572, Loss 0.004266886971890926\n",
      "Step 300 / 572, Loss 0.004007491283118725\n",
      "Step 400 / 572, Loss 0.028456566855311394\n",
      "Step 500 / 572, Loss 0.0279169250279665\n",
      "Training Loss: 0.05256615753934419, Training Accuracy: 0.9848120629370629\n",
      "\n",
      "Starting evaluation...\n",
      "Step 100 / 196\n",
      "Validation Accuracy: 0.7842323651452282\n",
      "\n",
      "\n",
      "Epoch 5...\n",
      "\n",
      "Step 100 / 572, Loss 0.01819416508078575\n",
      "Step 200 / 572, Loss 0.007052796892821789\n",
      "Step 300 / 572, Loss 0.0013495278544723988\n",
      "Step 400 / 572, Loss 0.02311619557440281\n",
      "Step 500 / 572, Loss 0.012776613235473633\n",
      "Training Loss: 0.03949641451689169, Training Accuracy: 0.9898382867132867\n",
      "\n",
      "Starting evaluation...\n",
      "Step 100 / 196\n",
      "Validation Accuracy: 0.7628471113948292\n",
      "\n",
      "\n",
      "Epoch 6...\n",
      "\n",
      "Step 100 / 572, Loss 0.018830470740795135\n",
      "Step 200 / 572, Loss 0.014627475291490555\n",
      "Step 300 / 572, Loss 0.0024730409495532513\n",
      "Step 400 / 572, Loss 0.005365113262087107\n",
      "Step 500 / 572, Loss 0.01581745781004429\n",
      "Training Loss: 0.03630109573358269, Training Accuracy: 0.991368006993007\n",
      "\n",
      "Starting evaluation...\n",
      "Step 100 / 196\n",
      "Validation Accuracy: 0.7883817427385892\n",
      "\n",
      "\n",
      "Epoch 7...\n",
      "\n",
      "Step 100 / 572, Loss 0.010948452167212963\n",
      "Step 200 / 572, Loss 0.08551333099603653\n",
      "Step 300 / 572, Loss 0.0037921431940048933\n",
      "Step 400 / 572, Loss 0.010204024612903595\n",
      "Step 500 / 572, Loss 0.031034309417009354\n",
      "Training Loss: 0.05034641100181644, Training Accuracy: 0.9859047202797203\n",
      "\n",
      "Starting evaluation...\n",
      "Step 100 / 196\n",
      "Validation Accuracy: 0.7701883179061603\n",
      "\n",
      "\n",
      "Epoch 8...\n",
      "\n",
      "Step 100 / 572, Loss 0.011180066503584385\n",
      "Step 200 / 572, Loss 0.02341563254594803\n",
      "Step 300 / 572, Loss 0.23625142872333527\n",
      "Step 400 / 572, Loss 0.008235451765358448\n",
      "Step 500 / 572, Loss 0.02968723513185978\n",
      "Training Loss: 0.0664506982619161, Training Accuracy: 0.9807692307692307\n",
      "\n",
      "Starting evaluation...\n",
      "Step 100 / 196\n",
      "Validation Accuracy: 0.7759336099585062\n",
      "\n",
      "\n"
     ]
    }
   ],
   "source": [
    "########################################################################\n",
    "# TODO - Train Your Model                                              #\n",
    "########################################################################\n",
    "\n",
    "criterion = torch.nn.BCELoss()\n",
    "optimizer = torch.optim.Adam(model.parameters(), lr=0.001)\n",
    "\n",
    "epoch = 8\n",
    "\n",
    "# Set gclip -> max gradient for clipping\n",
    "gclip = 40\n",
    "\n",
    "print('Starting training...')\n",
    "\n",
    "for e in range(epoch):\n",
    "    print('Epoch {}...\\n'.format(e + 1))\n",
    "    \n",
    "    # Sets the model to training mode\n",
    "    model.train()\n",
    "    \n",
    "    correct = 0\n",
    "    total = 0\n",
    "    total_loss = 0.0\n",
    "    \n",
    "    # Iterating through the minibatches of the data\n",
    "    for i, data in enumerate(train_loader):\n",
    "        \n",
    "        # Data is a dictionary of keys (data, label, lengths)\n",
    "        sequence = data['data'].to(device)\n",
    "        label = data['label'].to(device)\n",
    "        lengths = data['lengths']\n",
    "                \n",
    "        # 1. Reset the parameter gradients for the current minibatch iteration\n",
    "        # to prevent accumulation of gradients\n",
    "        optimizer.zero_grad()\n",
    "        \n",
    "        # 2. Forward and get the output of the model\n",
    "        pred = model(sequence, lengths)\n",
    "        \n",
    "        # 3. Compute loss using output and ground truth \n",
    "        loss = criterion(pred, label)\n",
    "\n",
    "        # 4. Compute gradients by backpropagation                 \n",
    "        loss.backward()                     \n",
    "        \n",
    "        # 4.5 RNN may suffer from exploding gradients. To tackle this problem,\n",
    "        # we use a technique here called gradient clipping with the function clip_grad_norm_\n",
    "        clip_grad_norm_(model.parameters(), max_norm=gclip)\n",
    "        \n",
    "        # 5. Update model parameters using computed gradients                                             \n",
    "        optimizer.step()                                                              \n",
    "        \n",
    "        # Accumulate the loss and calculate the accuracy of predictions\n",
    "        correct += ((pred > 0.5) == label).sum().item()\n",
    "        total += label.numel()\n",
    "        total_loss += loss.item() * label.numel()\n",
    "        \n",
    "        # Print statistics to console\n",
    "        if i > 0  and i % 100 == 0: # print every 100 mini-batches\n",
    "            print('Step {} / {}, Loss {}'.format(i, len(train_loader), loss.item()))\n",
    "     \n",
    "    print('Training Loss: {}, Training Accuracy: {}'.format(total_loss / total, correct / total))\n",
    "    \n",
    "    print('\\nStarting evaluation...')\n",
    "    model.eval()\n",
    "    print(\"Validation Accuracy: {}\".format(compute_accuracy(model, val_loader)))\n",
    "    print('\\n')\n",
    "########################################################################\n",
    "#                           END OF YOUR CODE                           #\n",
    "########################################################################"
   ]
  },
  {
   "cell_type": "markdown",
   "metadata": {},
   "source": [
    "## Testing the Model\n",
    "\n",
    "As you trained a model and improved it on the validation set, you can now test it on the test set."
   ]
  },
  {
   "cell_type": "code",
   "execution_count": 92,
   "metadata": {},
   "outputs": [
    {
     "name": "stdout",
     "output_type": "stream",
     "text": [
      "Step 100 / 386\n",
      "Step 200 / 386\n",
      "Step 300 / 386\n",
      "accuracy on test set: 0.767758676613688\n"
     ]
    }
   ],
   "source": [
    "test_loader = DataLoader(\n",
    "  test_dataset, batch_size=8, collate_fn=collate, drop_last=False\n",
    ")\n",
    "\n",
    "print(\"accuracy on test set: {}\".format(compute_accuracy(model, test_loader)))"
   ]
  },
  {
   "cell_type": "markdown",
   "metadata": {},
   "source": [
    "## Demo\n",
    "\n",
    "\n",
    "Now that you trained a sufficiently good sentiment classifier, run the below cell and type some text to see some predictions (type exit to quit the demo). Since we used a small data, don't expect too much :).\n",
    "<div class=\"alert alert-warning\">\n",
    "<h3>Warning!</h3>\n",
    "    <p>\n",
    "        As there is a while True loop in the cell below, you can skip this one for now and run the cell under '3. Submission' first to save your model. \n",
    "   </p>\n",
    "</div>"
   ]
  },
  {
   "cell_type": "code",
   "execution_count": 116,
   "metadata": {},
   "outputs": [
    {
     "name": "stdout",
     "output_type": "stream",
     "text": [
      "Sentiment -> :(, Confidence -> 0.591595858335495\n",
      "\n"
     ]
    }
   ],
   "source": [
    "from exercise_code.rnn.sentiment_dataset import tokenize\n",
    "\n",
    "text = 'It is shitty'\n",
    "w2i = vocab\n",
    "\n",
    "# while True:\n",
    "#     # text = input()\n",
    "#     # if text == 'exit':\n",
    "#         # break\n",
    "\n",
    "#     words = torch.tensor([\n",
    "#         w2i.get(word, w2i['<unk>'])\n",
    "#         for word in tokenize(text)\n",
    "#     ]).long().to(device).view(-1, 1)  # T x B\n",
    "\n",
    "#     pred = model(words).item()\n",
    "#     sent = pred > 0.5\n",
    "    \n",
    "#     print('Sentiment -> {}, Confidence -> {}'.format(\n",
    "#         ':)' if sent else ':(', pred if sent else 1 - pred\n",
    "#     ))\n",
    "#     print()\n",
    "    \n",
    "words = torch.tensor([\n",
    "    w2i.get(word, w2i['<unk>'])\n",
    "    for word in tokenize(text)\n",
    "]).long().to(device).view(-1, 1)  # T x B\n",
    "\n",
    "pred = model(words).item()\n",
    "sent = pred > 0.5\n",
    "\n",
    "print('Sentiment -> {}, Confidence -> {}'.format(\n",
    "    ':)' if sent else ':(', pred if sent else 1 - pred\n",
    "))\n",
    "print()"
   ]
  },
  {
   "cell_type": "markdown",
   "metadata": {},
   "source": [
    "# 3. Submission\n",
    "\n",
    "If you got sufficient performance on the test data, you are ready to upload your model to the [server](https://i2dl.vc.in.tum.de/submission/). As always, let's first save your final model."
   ]
  },
  {
   "cell_type": "code",
   "execution_count": null,
   "metadata": {},
   "outputs": [],
   "source": [
    "from exercise_code.util.save_model import save_model\n",
    "\n",
    "save_model(model, 'rnn_classifier.p')"
   ]
  },
  {
   "cell_type": "markdown",
   "metadata": {},
   "source": [
    "Congrats, you finished the last I2DL exercise! One last time this semester, let's prepare the submission:"
   ]
  },
  {
   "cell_type": "code",
   "execution_count": null,
   "metadata": {},
   "outputs": [],
   "source": [
    "# Now zip the folder for upload\n",
    "from exercise_code.util.submit import submit_exercise\n",
    "\n",
    "submit_exercise('../output/additional_exercise')"
   ]
  }
 ],
 "metadata": {
  "kernelspec": {
   "display_name": "Python 3 (ipykernel)",
   "language": "python",
   "name": "python3"
  },
  "language_info": {
   "codemirror_mode": {
    "name": "ipython",
    "version": 3
   },
   "file_extension": ".py",
   "mimetype": "text/x-python",
   "name": "python",
   "nbconvert_exporter": "python",
   "pygments_lexer": "ipython3",
   "version": "3.10.13"
  },
  "vscode": {
   "interpreter": {
    "hash": "ae3aae73068e3f6c78354faadc00aa3f23e0713f86a27300232dd83e2bc002d8"
   }
  }
 },
 "nbformat": 4,
 "nbformat_minor": 4
}
