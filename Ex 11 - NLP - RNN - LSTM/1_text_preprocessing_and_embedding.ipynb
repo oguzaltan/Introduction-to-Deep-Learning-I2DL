{
 "cells": [
  {
   "cell_type": "markdown",
   "metadata": {},
   "source": [
    "# Text Processing and Word Embeddings\n",
    "\n",
    "Welcome to this new exercise! In this exercise, we will play around with text instead of images as before, using Recurrent Neural Networks. Generally, it is called Natural Language Processing (NLP) when dealing with text, speech, etc. But the data structure is very different from images, i.e., text is a string, while images consist of numbers. Hence, we need some preprocessing steps to transform the raw text into another data format. This notebook will introduce these basic concepts in NLP pipelines. Specifically, you will learn about:\n",
    "\n",
    "1. How to preprocess text classification datasets\n",
    "2. How to create a simple word embedding layer that maps words to dense vectors"
   ]
  },
  {
   "cell_type": "markdown",
   "metadata": {},
   "source": [
    "## (Optional) Mount folder in Colab\n",
    "\n",
    "Uncomment the following cell to mount your gdrive if you are using the notebook in google colab:"
   ]
  },
  {
   "cell_type": "code",
   "execution_count": 2,
   "metadata": {},
   "outputs": [
    {
     "data": {
      "text/plain": [
       "\"\\nfrom google.colab import drive\\nimport os\\n\\ngdrive_path='/content/gdrive/MyDrive/i2dl/exercise_11'\\n\\n# This will mount your google drive under 'MyDrive'\\ndrive.mount('/content/gdrive', force_remount=True)\\n# In order to access the files in this notebook we have to navigate to the correct folder\\nos.chdir(gdrive_path)\\n# Check manually if all files are present\\nprint(sorted(os.listdir()))\\n\""
      ]
     },
     "execution_count": 2,
     "metadata": {},
     "output_type": "execute_result"
    }
   ],
   "source": [
    "# Use the following lines if you want to use Google Colab\n",
    "# We presume you created a folder \"i2dl\" within your main drive folder, and put the exercise there.\n",
    "# NOTE: terminate all other colab sessions that use GPU!\n",
    "# NOTE 2: Make sure the correct exercise folder (e.g exercise_11) is given.\n",
    "\n",
    "\"\"\"\n",
    "from google.colab import drive\n",
    "import os\n",
    "\n",
    "gdrive_path='/content/gdrive/MyDrive/i2dl/exercise_11'\n",
    "\n",
    "# This will mount your google drive under 'MyDrive'\n",
    "drive.mount('/content/gdrive', force_remount=True)\n",
    "# In order to access the files in this notebook we have to navigate to the correct folder\n",
    "os.chdir(gdrive_path)\n",
    "# Check manually if all files are present\n",
    "print(sorted(os.listdir()))\n",
    "\"\"\""
   ]
  },
  {
   "cell_type": "markdown",
   "metadata": {},
   "source": [
    "### Set up PyTorch environment in colab\n",
    "- (OPTIONAL) Enable GPU via Runtime --> Change runtime type --> GPU\n",
    "- Uncomment the following cell if you are using the notebook in google colab:"
   ]
  },
  {
   "cell_type": "code",
   "execution_count": 3,
   "metadata": {},
   "outputs": [],
   "source": [
    "# Optional: install correct libraries in google colab\n",
    "# !python -m pip install torch==1.11.0+cu113 torchvision==0.12.0+cu113 -f https://download.pytorch.org/whl/torch_stable.html\n",
    "# !python -m pip install tensorboard==2.8.0"
   ]
  },
  {
   "cell_type": "markdown",
   "metadata": {},
   "source": [
    "# 0. Setup\n",
    "\n",
    "As usual, we first import some packages to setup this notebook."
   ]
  },
  {
   "cell_type": "code",
   "execution_count": 4,
   "metadata": {},
   "outputs": [],
   "source": [
    "import os\n",
    "import torch\n",
    "import matplotlib.pyplot as plt\n",
    "from torch.utils.data import DataLoader\n",
    "\n",
    "from exercise_code.rnn.sentiment_dataset import (\n",
    "    create_dummy_data,\n",
    "    download_data\n",
    ")\n",
    "\n",
    "%matplotlib inline\n",
    "plt.rcParams['figure.figsize'] = (10.0, 8.0) # set default size of plots\n",
    "plt.rcParams['image.interpolation'] = 'nearest'\n",
    "plt.rcParams['image.cmap'] = 'gray'\n",
    "\n",
    "# for auto-reloading external modules\n",
    "# see http://stackoverflow.com/questions/1907993/autoreload-of-modules-in-ipython\n",
    "%load_ext autoreload\n",
    "%autoreload 2\n",
    "\n",
    "os.environ['KMP_DUPLICATE_LIB_OK']='True' # To prevent the kernel from dying."
   ]
  },
  {
   "cell_type": "markdown",
   "metadata": {},
   "source": [
    "# 1. Preprocessing a Text Classification Dataset\n",
    "\n",
    "As a starting point, let's load a dummy text classification dataset and have a sense of how it looks. We take these samples from the IMDb movie review dataset, which includes movie reviews and labels that show whether they are negative (0) or positive (1). You will investigate this task further in the second notebook.\n",
    "\n",
    "In this section, our goal is to create a text processing dataset. You are not required to write any code in this section. However, the concept introduced here is very important for working on NLP datasets in the future as well as in the rest of this exercise. \n",
    "Take your time to understand the procedure here. \n",
    "\n",
    "First, let us download the data and take a look at some data samples."
   ]
  },
  {
   "cell_type": "code",
   "execution_count": 5,
   "metadata": {},
   "outputs": [
    {
     "name": "stdout",
     "output_type": "stream",
     "text": [
      "Text: This is the definitive movie version of Hamlet. Branagh cuts nothing, but there are no wasted moments.\n",
      "Label: 1\n",
      "\n",
      "Text: Obviously written for the stage. Lightweight but worthwhile. How can you go wrong with Ralph Richardson, Olivier and Merle Oberon.\n",
      "Label: 1\n",
      "\n",
      "Text: Smallville episode Justice is the best episode of Smallville ! ! ! ! ! ! ! ! ! ! ! ! ! ! ! ! ! ! ! ! ! ! ! ! ! ! ! ! ! ! ! ! ! ! ! ! ! ! ! ! ! ! ! ! ! ! ! ! ! ! ! ! ! ! ! ! ! ! ! ! ! ! ! ! ! ! ! ! ! ! ! ! ! ! ! ! ! ! ! ! ! ! ! ! ! ! ! ! ! ! ! ! ! ! ! ! ! ! ! ! ! ! ! ! ! ! ! ! ! ! ! ! ! ! ! ! ! ! ! ! ! ! ! ! ! ! ! ! ! ! ! ! ! ! ! ! ! ! ! ! ! ! ! ! It's my favorite episode of Smallville! ! ! ! ! ! ! ! ! ! ! ! ! ! ! ! ! ! ! ! ! ! ! ! ! ! ! ! ! ! ! ! ! ! ! ! ! ! ! ! ! ! ! ! ! ! ! ! ! ! ! ! ! ! ! ! ! ! ! ! ! ! ! ! ! ! ! ! ! ! ! ! ! ! ! ! ! ! ! ! ! ! ! ! ! ! ! ! ! ! ! ! ! ! ! ! ! ! ! ! ! ! ! ! ! ! ! ! ! ! ! ! ! ! ! ! ! ! ! ! ! ! ! ! ! ! ! ! ! ! ! ! ! ! ! ! ! !\n",
      "Label: 1\n",
      "\n",
      "Text: This movie is terrible but it has some good effects.\n",
      "Label: 0\n",
      "\n",
      "Text: no comment - stupid movie, acting average or worse... screenplay - no sense at all... SKIP IT!\n",
      "Label: 0\n",
      "\n",
      "Text: Long, boring, blasphemous. Never have I been so glad to see ending credits roll.\n",
      "Label: 0\n",
      "\n"
     ]
    }
   ],
   "source": [
    "i2dl_exercises_path = os.path.dirname(os.path.abspath(os.getcwd()))\n",
    "data_root = os.path.join(i2dl_exercises_path, \"datasets\", \"SentimentData\")\n",
    "path = download_data(data_root)\n",
    "data = create_dummy_data(path)\n",
    "for text, label in data:\n",
    "    print('Text: {}'.format(text))\n",
    "    print('Label: {}'.format(label))\n",
    "    print()"
   ]
  },
  {
   "cell_type": "markdown",
   "metadata": {},
   "source": [
    "## 1.1 Tokenizing Data\n",
    "\n",
    "As seen above, we loaded 3 positive and 3 negative reviews. Since the basic semantic unit of text is a word, the first thing we need to do is **tokenizing** the dataset, which means converting each review to a list of words."
   ]
  },
  {
   "cell_type": "code",
   "execution_count": 6,
   "metadata": {},
   "outputs": [
    {
     "name": "stdout",
     "output_type": "stream",
     "text": [
      "(['this', 'is', 'the', 'definitive', 'movie', 'version', 'of', 'hamlet', 'branagh', 'cuts', 'nothing', 'but', 'there', 'are', 'no', 'wasted', 'moments'], 1) \n",
      "\n",
      "(['obviously', 'written', 'for', 'the', 'stage', 'lightweight', 'but', 'worthwhile', 'how', 'can', 'you', 'go', 'wrong', 'with', 'ralph', 'richardson', 'olivier', 'and', 'merle', 'oberon'], 1) \n",
      "\n",
      "(['smallville', 'episode', 'justice', 'is', 'the', 'best', 'episode', 'of', 'smallville', 'it', 's', 'my', 'favorite', 'episode', 'of', 'smallville'], 1) \n",
      "\n",
      "(['this', 'movie', 'is', 'terrible', 'but', 'it', 'has', 'some', 'good', 'effects'], 0) \n",
      "\n",
      "(['no', 'comment', 'stupid', 'movie', 'acting', 'average', 'or', 'worse', 'screenplay', 'no', 'sense', 'at', 'all', 'skip', 'it'], 0) \n",
      "\n",
      "(['long', 'boring', 'blasphemous', 'never', 'have', 'i', 'been', 'so', 'glad', 'to', 'see', 'ending', 'credits', 'roll'], 0) \n",
      "\n"
     ]
    }
   ],
   "source": [
    "import re\n",
    "\n",
    "# use regular expression to split the sentence\n",
    "# check https://docs.python.org/3/library/re.html for more information\n",
    "def tokenize(text):\n",
    "    return [s.lower() for s in re.split(r'\\W+', text) if len(s) > 0]\n",
    "\n",
    "tokenized_data = []\n",
    "for text, label in data:\n",
    "    tokenized_data.append((tokenize(text), label))\n",
    "    print(tokenized_data[-1], '\\n')"
   ]
  },
  {
   "cell_type": "markdown",
   "metadata": {},
   "source": [
    "## 1.2 Creating a Vocabulary\n",
    "\n",
    "We have converted the dataset into pairs of token lists and corresponding labels. But strings have varying lengths, which is hard to handle. It would be nice to represent words with numbers. So, we need to create a <b>vocabulary</b>, which is a dictionary that maps each word to an integer id.\n",
    "\n",
    "In large datasets, there are too many words, and most of them don't occur very frequently. One common approach we use to tackle this problem is to pick the most common N words from the dataset. Therefore, we restrict the number of words.\n",
    "\n",
    "First, let's compute the word frequencies in our dummy dataset. To compute frequencies, we use the [Counter](https://docs.python.org/3/library/collections.html#collections.Counter) data structure."
   ]
  },
  {
   "cell_type": "code",
   "execution_count": 7,
   "metadata": {},
   "outputs": [
    {
     "data": {
      "text/plain": [
       "Counter({'this': 2,\n",
       "         'is': 3,\n",
       "         'the': 3,\n",
       "         'definitive': 1,\n",
       "         'movie': 3,\n",
       "         'version': 1,\n",
       "         'of': 3,\n",
       "         'hamlet': 1,\n",
       "         'branagh': 1,\n",
       "         'cuts': 1,\n",
       "         'nothing': 1,\n",
       "         'but': 3,\n",
       "         'there': 1,\n",
       "         'are': 1,\n",
       "         'no': 3,\n",
       "         'wasted': 1,\n",
       "         'moments': 1,\n",
       "         'obviously': 1,\n",
       "         'written': 1,\n",
       "         'for': 1,\n",
       "         'stage': 1,\n",
       "         'lightweight': 1,\n",
       "         'worthwhile': 1,\n",
       "         'how': 1,\n",
       "         'can': 1,\n",
       "         'you': 1,\n",
       "         'go': 1,\n",
       "         'wrong': 1,\n",
       "         'with': 1,\n",
       "         'ralph': 1,\n",
       "         'richardson': 1,\n",
       "         'olivier': 1,\n",
       "         'and': 1,\n",
       "         'merle': 1,\n",
       "         'oberon': 1,\n",
       "         'smallville': 3,\n",
       "         'episode': 3,\n",
       "         'justice': 1,\n",
       "         'best': 1,\n",
       "         'it': 3,\n",
       "         's': 1,\n",
       "         'my': 1,\n",
       "         'favorite': 1,\n",
       "         'terrible': 1,\n",
       "         'has': 1,\n",
       "         'some': 1,\n",
       "         'good': 1,\n",
       "         'effects': 1,\n",
       "         'comment': 1,\n",
       "         'stupid': 1,\n",
       "         'acting': 1,\n",
       "         'average': 1,\n",
       "         'or': 1,\n",
       "         'worse': 1,\n",
       "         'screenplay': 1,\n",
       "         'sense': 1,\n",
       "         'at': 1,\n",
       "         'all': 1,\n",
       "         'skip': 1,\n",
       "         'long': 1,\n",
       "         'boring': 1,\n",
       "         'blasphemous': 1,\n",
       "         'never': 1,\n",
       "         'have': 1,\n",
       "         'i': 1,\n",
       "         'been': 1,\n",
       "         'so': 1,\n",
       "         'glad': 1,\n",
       "         'to': 1,\n",
       "         'see': 1,\n",
       "         'ending': 1,\n",
       "         'credits': 1,\n",
       "         'roll': 1})"
      ]
     },
     "execution_count": 7,
     "metadata": {},
     "output_type": "execute_result"
    }
   ],
   "source": [
    "from collections import Counter\n",
    "\n",
    "freqs = Counter()\n",
    "for tokens, _ in tokenized_data:\n",
    "    freqs.update(tokens)\n",
    "\n",
    "freqs"
   ]
  },
  {
   "cell_type": "markdown",
   "metadata": {},
   "source": [
    "To create the dictionary, let's select the most common 20 words to create a vocabulary. In addition to the words that appear in our data, we need to have two special words:\n",
    "\n",
    "- `<eos>` End of sequence symbol used for padding\n",
    "- `<unk>` Words unknown in our vocabulary"
   ]
  },
  {
   "cell_type": "code",
   "execution_count": 8,
   "metadata": {},
   "outputs": [
    {
     "data": {
      "text/plain": [
       "{'<eos>': 0,\n",
       " '<unk>': 1,\n",
       " 'is': 2,\n",
       " 'the': 3,\n",
       " 'movie': 4,\n",
       " 'of': 5,\n",
       " 'but': 6,\n",
       " 'no': 7,\n",
       " 'smallville': 8,\n",
       " 'episode': 9,\n",
       " 'it': 10,\n",
       " 'this': 11,\n",
       " 'definitive': 12,\n",
       " 'version': 13,\n",
       " 'hamlet': 14,\n",
       " 'branagh': 15,\n",
       " 'cuts': 16,\n",
       " 'nothing': 17,\n",
       " 'there': 18,\n",
       " 'are': 19,\n",
       " 'wasted': 20,\n",
       " 'moments': 21}"
      ]
     },
     "execution_count": 8,
     "metadata": {},
     "output_type": "execute_result"
    }
   ],
   "source": [
    "vocab = {'<eos>': 0, '<unk>': 1}\n",
    "for token, freq in freqs.most_common(20):\n",
    "    vocab[token] = len(vocab)\n",
    "vocab"
   ]
  },
  {
   "cell_type": "markdown",
   "metadata": {},
   "source": [
    "## 1.3 Creating the Dataset\n",
    "\n",
    "Putting it all together, we can now create a dataset class. First, let's create index-label pairs:"
   ]
  },
  {
   "cell_type": "code",
   "execution_count": 9,
   "metadata": {},
   "outputs": [
    {
     "name": "stdout",
     "output_type": "stream",
     "text": [
      "[11, 2, 3, 12, 4, 13, 5, 14, 15, 16, 17, 6, 18, 19, 7, 20, 21]  ->  1\n",
      "\n",
      "[1, 1, 1, 3, 1, 1, 6, 1, 1, 1, 1, 1, 1, 1, 1, 1, 1, 1, 1, 1]  ->  1\n",
      "\n",
      "[8, 9, 1, 2, 3, 1, 9, 5, 8, 10, 1, 1, 1, 9, 5, 8]  ->  1\n",
      "\n",
      "[11, 4, 2, 1, 6, 10, 1, 1, 1, 1]  ->  0\n",
      "\n",
      "[7, 1, 1, 4, 1, 1, 1, 1, 1, 7, 1, 1, 1, 1, 10]  ->  0\n",
      "\n",
      "[1, 1, 1, 1, 1, 1, 1, 1, 1, 1, 1, 1, 1, 1]  ->  0\n",
      "\n"
     ]
    }
   ],
   "source": [
    "indexed_data = []\n",
    "for tokens, label in tokenized_data:\n",
    "    indices = [vocab.get(token, vocab['<unk>']) for token in tokens]    \n",
    "    # the token that is not in vocab get assigned <unk>\n",
    "    indexed_data.append((indices, label))\n",
    "    \n",
    "for indices, label in indexed_data:\n",
    "    print(indices, ' -> ', label)\n",
    "    print()"
   ]
  },
  {
   "cell_type": "markdown",
   "metadata": {},
   "source": [
    "<div class=\"alert alert-success\"> \n",
    "    <h3>Task: Check Code</h3>\n",
    "    <p>We now use the PyTorch dataset class we provided in <code>exercise_code/rnn/sentiment_dataset.py</code> file. Please also take a look at the code.</p>\n",
    " </div>\n",
    "    \n",
    "\n",
    "\n",
    "Dataset class also reverse sorts the sequences with respect to the lengths. Thanks to this sorting, we can reduce the total number of padded elements, which means that we have less computations for padded values."
   ]
  },
  {
   "cell_type": "code",
   "execution_count": 10,
   "metadata": {},
   "outputs": [
    {
     "name": "stdout",
     "output_type": "stream",
     "text": [
      "{'data': tensor([1, 1, 1, 3, 1, 1, 6, 1, 1, 1, 1, 1, 1, 1, 1, 1, 1, 1, 1, 1]), 'label': tensor(1.)}\n",
      "\n",
      "{'data': tensor([11,  2,  3, 12,  4, 13,  5, 14, 15, 16, 17,  6, 18, 19,  7, 20, 21]), 'label': tensor(1.)}\n",
      "\n",
      "{'data': tensor([ 8,  9,  1,  2,  3,  1,  9,  5,  8, 10,  1,  1,  1,  9,  5,  8]), 'label': tensor(1.)}\n",
      "\n",
      "{'data': tensor([ 7,  1,  1,  4,  1,  1,  1,  1,  1,  7,  1,  1,  1,  1, 10]), 'label': tensor(0.)}\n",
      "\n",
      "{'data': tensor([1, 1, 1, 1, 1, 1, 1, 1, 1, 1, 1, 1, 1, 1]), 'label': tensor(0.)}\n",
      "\n",
      "{'data': tensor([11,  4,  2,  1,  6, 10,  1,  1,  1,  1]), 'label': tensor(0.)}\n",
      "\n"
     ]
    }
   ],
   "source": [
    "from exercise_code.rnn.sentiment_dataset import SentimentDataset\n",
    "\n",
    "combined_data = [\n",
    "    (raw_text, tokens, indices, label)\n",
    "    for (raw_text, label), (tokens, _), (indices, _)\n",
    "    in zip(data, tokenized_data, indexed_data)\n",
    "]\n",
    "\n",
    "dataset = SentimentDataset(combined_data)\n",
    "\n",
    "for elem in dataset:\n",
    "    print(elem)\n",
    "    print()"
   ]
  },
  {
   "cell_type": "markdown",
   "metadata": {},
   "source": [
    "## 1.4 Minibatching\n",
    "Note that in the dataset we created, not all sequences have the same length. Therefore, __we cannot minibatch the data trivially__. This means we cannot use a `DataLoader` class easily.\n",
    "\n",
    "<b>If you uncomment the following cell and run it, you will very likely get an error!</b>"
   ]
  },
  {
   "cell_type": "code",
   "execution_count": 11,
   "metadata": {},
   "outputs": [],
   "source": [
    "# loader = DataLoader(dataset, batch_size=3)\n",
    "\n",
    "# for batch in loader:\n",
    "#     print(batch)"
   ]
  },
  {
   "cell_type": "markdown",
   "metadata": {},
   "source": [
    "<div class=\"alert alert-success\"> \n",
    "    <h3>Task: Check Code</h3>\n",
    "    <p>To solve the problem, we need to pad the sequences with <code> < eos > </code> tokens that we indexed as zero. To integrate this approach into the Pytorch <a href=\"https://pytorch.org/docs/stable/data.html#torch.utils.data.DataLoader\" target=\"_blank\">Dataloader</a> class, we will make use of the <code>collate_fn</code> argument. For more details, check out the <code>collate</code> function in <code>exercise_code/rnn/sentiment_dataset</code>. </p>\n",
    "    <p> In addition, we use the <a href=\"https://pytorch.org/docs/stable/generated/torch.nn.utils.rnn.pad_sequence.html\" target=\"_blank\">pad_sequence</a> that pads shorter sequences with 0. </p>\n",
    " </div>"
   ]
  },
  {
   "cell_type": "code",
   "execution_count": 12,
   "metadata": {},
   "outputs": [
    {
     "name": "stdout",
     "output_type": "stream",
     "text": [
      "Data: \n",
      " tensor([[ 1, 11,  8],\n",
      "        [ 1,  2,  9],\n",
      "        [ 1,  3,  1],\n",
      "        [ 3, 12,  2],\n",
      "        [ 1,  4,  3],\n",
      "        [ 1, 13,  1],\n",
      "        [ 6,  5,  9],\n",
      "        [ 1, 14,  5],\n",
      "        [ 1, 15,  8],\n",
      "        [ 1, 16, 10],\n",
      "        [ 1, 17,  1],\n",
      "        [ 1,  6,  1],\n",
      "        [ 1, 18,  1],\n",
      "        [ 1, 19,  9],\n",
      "        [ 1,  7,  5],\n",
      "        [ 1, 20,  8],\n",
      "        [ 1, 21,  0],\n",
      "        [ 1,  0,  0],\n",
      "        [ 1,  0,  0],\n",
      "        [ 1,  0,  0]])\n",
      "\n",
      "Labels: \n",
      " tensor([1., 1., 1.])\n",
      "\n",
      "Sequence Lengths: \n",
      " tensor([20, 17, 16])\n",
      "\n",
      "\n",
      "Data: \n",
      " tensor([[ 7,  1, 11],\n",
      "        [ 1,  1,  4],\n",
      "        [ 1,  1,  2],\n",
      "        [ 4,  1,  1],\n",
      "        [ 1,  1,  6],\n",
      "        [ 1,  1, 10],\n",
      "        [ 1,  1,  1],\n",
      "        [ 1,  1,  1],\n",
      "        [ 1,  1,  1],\n",
      "        [ 7,  1,  1],\n",
      "        [ 1,  1,  0],\n",
      "        [ 1,  1,  0],\n",
      "        [ 1,  1,  0],\n",
      "        [ 1,  1,  0],\n",
      "        [10,  0,  0]])\n",
      "\n",
      "Labels: \n",
      " tensor([0., 0., 0.])\n",
      "\n",
      "Sequence Lengths: \n",
      " tensor([15, 14, 10])\n",
      "\n",
      "\n"
     ]
    }
   ],
   "source": [
    "from torch.nn.utils.rnn import pad_sequence\n",
    "\n",
    "def collate(batch):\n",
    "    assert isinstance(batch, list)\n",
    "    data = pad_sequence([b['data'] for b in batch])\n",
    "    lengths = torch.tensor([len(b['data']) for b in batch])\n",
    "    label = torch.stack([b['label'] for b in batch])\n",
    "    return {\n",
    "        'data': data,\n",
    "        'label': label,\n",
    "        'lengths': lengths\n",
    "    }\n",
    "\n",
    "loader = DataLoader(dataset, batch_size=3, collate_fn=collate)\n",
    "for batch in loader:\n",
    "    print('Data: \\n', batch['data'])\n",
    "    print('\\nLabels: \\n', batch['label'])\n",
    "    print('\\nSequence Lengths: \\n', batch['lengths'])\n",
    "    print('\\n')"
   ]
  },
  {
   "cell_type": "markdown",
   "metadata": {},
   "source": [
    "We can see that these two batches have different length, this is how the reverse sort mentioned in `1.3 Creating the Dataset` benefits for less memory and less computation. "
   ]
  },
  {
   "cell_type": "markdown",
   "metadata": {},
   "source": [
    "# 2. Embeddings\n",
    "\n",
    "In the previous section, we explored how to convert text into a sequence of integers. In this form, sequences are still not ready to be inputs of RNNs you implemented in the optional notebook. \n",
    "\n",
    "An integer representation is usually a one-hot encoding, while not the same since they are not equally weighted given only an integer. \n",
    "\n",
    "Moreover, it fails to express the semantic relations between words and the order of the words has no meaning. We would like a better representation to keep the semantic meaning of the word. For example, as shown in the following picture, the difference between man and woman and the difference between king and queen should be close, since the difference is only the gender. If we use a vector for each word, the above relation can be expressed as $vec(\\text{women})-vec(\\text{man}) \\approx vec(\\text{queen}) - vec(\\text{king})$. Usually we call such vector representations as embeddings.\n",
    "\n",
    "<img src='https://developers.google.com/machine-learning/crash-course/images/linear-relationships.svg' width=80% height=80%/>\n",
    "\n",
    "While one can use pre-trained embedding vectors such as [word2vec](https://arxiv.org/abs/1301.3781) or [GLoVe](https://nlp.stanford.edu/projects/glove/), in this exercise we use randomly initialized embedding vectors that will be trained from scratch together with our networks. As we train our model, it will learn the semantic relations between words."
   ]
  },
  {
   "cell_type": "markdown",
   "metadata": {},
   "source": [
    "<div class=\"alert alert-info\">\n",
    "\n",
    "<h3> Task: Implement Embedding</h3>\n",
    " <p>In this part, you will implement a simple embedding layer. Embedding is a simple lookup table that stores a dense vector to represent each word in the vocabulary.</p> \n",
    "\n",
    " <p>Your task is to implement the <code>Embedding</code> class in <code>exercise_code.rnn.rnn_nn</code> file. Once you are done, run the below cell to test your implementation. Note that we ensure eos embeddings to be zero by using the <code>padding_idx</code> argument.\n",
    "\n",
    " </div>"
   ]
  },
  {
   "cell_type": "code",
   "execution_count": 13,
   "metadata": {},
   "outputs": [
    {
     "name": "stdout",
     "output_type": "stream",
     "text": [
      "Difference between outputs: 0.0\n",
      "Test passed :)!\n"
     ]
    },
    {
     "data": {
      "text/plain": [
       "True"
      ]
     },
     "execution_count": 13,
     "metadata": {},
     "output_type": "execute_result"
    }
   ],
   "source": [
    "import torch.nn as nn\n",
    "\n",
    "from exercise_code.rnn.rnn_nn import Embedding\n",
    "from exercise_code.rnn.tests import embedding_output_test\n",
    "\n",
    "i2dl_embedding = Embedding(len(vocab), 16, padding_idx=0)\n",
    "pytorch_embedding = nn.Embedding(len(vocab), 16, padding_idx=0)\n",
    "\n",
    "loader = DataLoader(dataset, batch_size=len(dataset), collate_fn=collate)\n",
    "for batch in loader:\n",
    "    x = batch['data']\n",
    "\n",
    "embedding_output_test(i2dl_embedding, pytorch_embedding, x)"
   ]
  },
  {
   "cell_type": "markdown",
   "metadata": {},
   "source": [
    "# 3. Conclusion\n",
    "\n",
    "In this notebook, you learned how to prepare text data and how to create an embedding layer. In the next notebook, you will combine your Embedding and RNN implementations to create a sentiment analysis network!"
   ]
  }
 ],
 "metadata": {
  "kernelspec": {
   "display_name": "Python 3 (ipykernel)",
   "language": "python",
   "name": "python3"
  },
  "language_info": {
   "codemirror_mode": {
    "name": "ipython",
    "version": 3
   },
   "file_extension": ".py",
   "mimetype": "text/x-python",
   "name": "python",
   "nbconvert_exporter": "python",
   "pygments_lexer": "ipython3",
   "version": "3.10.13"
  },
  "vscode": {
   "interpreter": {
    "hash": "ae3aae73068e3f6c78354faadc00aa3f23e0713f86a27300232dd83e2bc002d8"
   }
  }
 },
 "nbformat": 4,
 "nbformat_minor": 4
}
